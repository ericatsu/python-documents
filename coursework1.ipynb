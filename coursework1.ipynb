{
 "cells": [
  {
   "cell_type": "code",
   "execution_count": 6,
   "metadata": {},
   "outputs": [],
   "source": [
    "import pandas as pd\n",
    "from sklearn.model_selection import train_test_split\n",
    "from sklearn.tree import DecisionTreeClassifier\n",
    "from sklearn.metrics import accuracy_score, classification_report, confusion_matrix"
   ]
  },
  {
   "cell_type": "code",
   "execution_count": 7,
   "metadata": {},
   "outputs": [],
   "source": [
    "file_path = r'C:\\Users\\Lester\\Documents\\Works\\python\\vertebral+column\\column_2C.dat'\n",
    "column_2C_data = pd.read_csv(file_path, sep=' ', header=None, names=['Pelvic Incidence', 'Pelvic Tilt', 'Lumbar Lordosis Angle', 'Sacral Slope', 'Pelvic Radius', 'Grade of Spondylolisthesis', 'Class'])"
   ]
  },
  {
   "cell_type": "code",
   "execution_count": 9,
   "metadata": {},
   "outputs": [
    {
     "data": {
      "text/plain": [
       "DecisionTreeClassifier(ccp_alpha=0.0, class_weight=None, criterion='entropy',\n",
       "                       max_depth=3, max_features=None, max_leaf_nodes=None,\n",
       "                       min_impurity_decrease=0.0, min_impurity_split=None,\n",
       "                       min_samples_leaf=1, min_samples_split=2,\n",
       "                       min_weight_fraction_leaf=0.0, presort='deprecated',\n",
       "                       random_state=42, splitter='best')"
      ]
     },
     "execution_count": 9,
     "metadata": {},
     "output_type": "execute_result"
    }
   ],
   "source": [
    "# Creating different partitions\n",
    "X_2C = column_2C_data.drop('Class', axis=1)\n",
    "y_2C = column_2C_data['Class']\n",
    "\n",
    "X_train_2C, X_val_2C, y_train_2C, y_val_2C = train_test_split(X_2C, y_2C, test_size=0.2, random_state=42)\n",
    "\n",
    "tree_2C_gini = DecisionTreeClassifier(criterion='gini', max_depth=3, random_state=42)\n",
    "tree_2C_entropy = DecisionTreeClassifier(criterion='entropy', max_depth=3, random_state=42)\n",
    "\n",
    "tree_2C_gini.fit(X_train_2C, y_train_2C)\n",
    "tree_2C_entropy.fit(X_train_2C, y_train_2C)"
   ]
  },
  {
   "cell_type": "code",
   "execution_count": 10,
   "metadata": {},
   "outputs": [
    {
     "name": "stdout",
     "output_type": "stream",
     "text": [
      "Decision Tree with Gini Index:\n",
      "              precision    recall  f1-score   support\n",
      "\n",
      "          AB       0.88      0.95      0.91        44\n",
      "          NO       0.86      0.67      0.75        18\n",
      "\n",
      "    accuracy                           0.87        62\n",
      "   macro avg       0.87      0.81      0.83        62\n",
      "weighted avg       0.87      0.87      0.87        62\n",
      "\n",
      "Accuracy: 0.8709677419354839\n",
      "\n",
      "Decision Tree with Entropy:\n",
      "              precision    recall  f1-score   support\n",
      "\n",
      "          AB       0.89      0.93      0.91        44\n",
      "          NO       0.81      0.72      0.76        18\n",
      "\n",
      "    accuracy                           0.87        62\n",
      "   macro avg       0.85      0.83      0.84        62\n",
      "weighted avg       0.87      0.87      0.87        62\n",
      "\n",
      "Accuracy: 0.8709677419354839\n"
     ]
    }
   ],
   "source": [
    "# Compare structures and performances\n",
    "y_pred_gini = tree_2C_gini.predict(X_val_2C)\n",
    "y_pred_entropy = tree_2C_entropy.predict(X_val_2C)\n",
    "\n",
    "print(\"Decision Tree with Gini Index:\")\n",
    "print(classification_report(y_val_2C, y_pred_gini))\n",
    "print(\"Accuracy:\", accuracy_score(y_val_2C, y_pred_gini))\n",
    "print(\"\\nDecision Tree with Entropy:\")\n",
    "print(classification_report(y_val_2C, y_pred_entropy))\n",
    "print(\"Accuracy:\", accuracy_score(y_val_2C, y_pred_entropy))"
   ]
  },
  {
   "cell_type": "code",
   "execution_count": 11,
   "metadata": {},
   "outputs": [
    {
     "name": "stdout",
     "output_type": "stream",
     "text": [
      "Confused Class Pairs (Gini Index): [(0, 1, 2), (1, 0, 6)]\n",
      "Confused Class Pairs (Entropy): [(0, 1, 3), (1, 0, 5)]\n"
     ]
    }
   ],
   "source": [
    "# Task c: Observe classification performance and identify confused class pairs\n",
    "confusion_matrix_gini = confusion_matrix(y_val_2C, y_pred_gini)\n",
    "confusion_matrix_entropy = confusion_matrix(y_val_2C, y_pred_entropy)\n",
    "\n",
    "# Identify confused class pairs for Gini Index\n",
    "confused_classes_gini = []\n",
    "for i in range(len(confusion_matrix_gini)):\n",
    "    for j in range(len(confusion_matrix_gini[i])):\n",
    "        if i != j and confusion_matrix_gini[i][j] > 0:\n",
    "            confused_classes_gini.append((i, j, confusion_matrix_gini[i][j]))\n",
    "\n",
    "# Repeat for Entropy\n",
    "confused_classes_entropy = []\n",
    "for i in range(len(confusion_matrix_entropy)):\n",
    "    for j in range(len(confusion_matrix_entropy[i])):\n",
    "        if i != j and confusion_matrix_entropy[i][j] > 0:\n",
    "            confused_classes_entropy.append((i, j, confusion_matrix_entropy[i][j]))\n",
    "\n",
    "print(\"Confused Class Pairs (Gini Index):\", confused_classes_gini)\n",
    "print(\"Confused Class Pairs (Entropy):\", confused_classes_entropy)\n"
   ]
  },
  {
   "cell_type": "code",
   "execution_count": 13,
   "metadata": {},
   "outputs": [
    {
     "name": "stdout",
     "output_type": "stream",
     "text": [
      "Decision Paths Leading to Misclassification (Gini Index):\n",
      "\n",
      "Decision Paths Leading to Misclassification (Entropy):\n"
     ]
    }
   ],
   "source": [
    "# Task d: Analyze decision paths for a selected confused class pair\n",
    "\n",
    "selected_confused_class_pair = (confused_classes_gini, confused_classes_entropy)\n",
    "\n",
    "# Function to get decision paths leading to misclassification\n",
    "def get_decision_paths(tree, X, y_true, confused_class_pair):\n",
    "    misclassified_indices = []\n",
    "    for i in range(len(X)):\n",
    "        if tree.predict([X.iloc[i]])[0] == confused_class_pair[1] and y_true.iloc[i] == confused_class_pair[0]:\n",
    "            misclassified_indices.append(i)\n",
    "    return misclassified_indices\n",
    "\n",
    "# Get misclassified indices for Gini Index tree\n",
    "misclassified_indices_gini = get_decision_paths(tree_2C_gini, X_val_2C, y_val_2C, selected_confused_class_pair)\n",
    "\n",
    "# Get misclassified indices for Entropy tree\n",
    "misclassified_indices_entropy = get_decision_paths(tree_2C_entropy, X_val_2C, y_val_2C, selected_confused_class_pair)\n",
    "\n",
    "# Print decision paths leading to misclassification\n",
    "print(\"Decision Paths Leading to Misclassification (Gini Index):\")\n",
    "for index in misclassified_indices_gini:\n",
    "    print(f\"Example {index + 1}: {tree_2C_gini.decision_path([X_val_2C.iloc[index]])}\")\n",
    "\n",
    "print(\"\\nDecision Paths Leading to Misclassification (Entropy):\")\n",
    "for index in misclassified_indices_entropy:\n",
    "    print(f\"Example {index + 1}: {tree_2C_entropy.decision_path([X_val_2C.iloc[index]])}\")\n"
   ]
  },
  {
   "cell_type": "code",
   "execution_count": 14,
   "metadata": {},
   "outputs": [
    {
     "name": "stdout",
     "output_type": "stream",
     "text": [
      "Original Decision Tree:\n",
      "<sklearn.tree._tree.Tree object at 0x000001EB75C8FAB0>\n",
      "Accuracy: 0.8709677419354839\n",
      "\n",
      "Decision Tree with Attribute Subset 1:\n",
      "<sklearn.tree._tree.Tree object at 0x000001EB75C46F80>\n",
      "Accuracy: 0.6451612903225806\n",
      "\n",
      "Decision Tree with Attribute Subset 2:\n",
      "<sklearn.tree._tree.Tree object at 0x000001EB75C8FB20>\n",
      "Accuracy: 0.8709677419354839\n"
     ]
    }
   ],
   "source": [
    "# Task e: Experiment with attribute subsets\n",
    "\n",
    "def build_tree_with_attribute_subset(X_train, X_val, y_train, y_val, attribute_subset):\n",
    "    tree = DecisionTreeClassifier(criterion='gini', max_depth=3, random_state=42)\n",
    "    tree.fit(X_train[attribute_subset], y_train)\n",
    "    \n",
    "    y_pred = tree.predict(X_val[attribute_subset])\n",
    "    accuracy = accuracy_score(y_val, y_pred)\n",
    "    \n",
    "    return tree, accuracy\n",
    "\n",
    "original_tree, original_accuracy = build_tree_with_attribute_subset(X_train_2C, X_val_2C, y_train_2C, y_val_2C, X_train_2C.columns)\n",
    "\n",
    "# Trying different attribute subsets\n",
    "attribute_subset_1 = ['Pelvic Incidence', 'Pelvic Tilt', 'Lumbar Lordosis Angle']\n",
    "attribute_subset_2 = ['Sacral Slope', 'Pelvic Radius', 'Grade of Spondylolisthesis']\n",
    "\n",
    "# Build trees with different attribute subsets\n",
    "tree_subset_1, accuracy_subset_1 = build_tree_with_attribute_subset(X_train_2C, X_val_2C, y_train_2C, y_val_2C, attribute_subset_1)\n",
    "tree_subset_2, accuracy_subset_2 = build_tree_with_attribute_subset(X_train_2C, X_val_2C, y_train_2C, y_val_2C, attribute_subset_2)\n",
    "\n",
    "# Compare structures and performance\n",
    "print(\"Original Decision Tree:\")\n",
    "print(original_tree.tree_)\n",
    "print(\"Accuracy:\", original_accuracy)\n",
    "\n",
    "print(\"\\nDecision Tree with Attribute Subset 1:\")\n",
    "print(tree_subset_1.tree_)\n",
    "print(\"Accuracy:\", accuracy_subset_1)\n",
    "\n",
    "print(\"\\nDecision Tree with Attribute Subset 2:\")\n",
    "print(tree_subset_2.tree_)\n",
    "print(\"Accuracy:\", accuracy_subset_2)\n"
   ]
  },
  {
   "cell_type": "markdown",
   "metadata": {},
   "source": [
    "Report on Decision Tree Implementation and Evaluation for Vertebral Column Dataset\n",
    "\n",
    "Task a: Construct Different Decision Trees\n",
    "\n",
    "For Task a, decision trees were constructed using the Vertebral Column dataset. The decision tree was implemented with the `DecisionTreeClassifier` from scikit-learn, using the entropy criterion and a maximum depth of 3. The resulting decision tree is as follows:\n",
    "\n",
    "```\n",
    "DecisionTreeClassifier(ccp_alpha=0.0, class_weight=None, criterion='entropy',\n",
    "                       max_depth=3, max_features=None, max_leaf_nodes=None,\n",
    "                       min_impurity_decrease=0.0, min_impurity_split=None,\n",
    "                       min_samples_leaf=1, min_samples_split=2,\n",
    "                       min_weight_fraction_leaf=0.0, presort='deprecated',\n",
    "                       random_state=42, splitter='best')\n",
    "```\n",
    "\n",
    "Task b: Compare Structures and Classification Performances\n",
    "\n",
    "For Task b, two decision trees were constructed with different splitting criteria (Gini Index and Entropy). The classification performances for both trees were evaluated on a validation set. The results are as follows:\n",
    "\n",
    "Decision Tree with Gini Index:\n",
    "```\n",
    "              precision    recall  f1-score   support\n",
    "          AB       0.88      0.95      0.91        44\n",
    "          NO       0.86      0.67      0.75        18\n",
    "    accuracy                           0.87        62\n",
    "   macro avg       0.87      0.81      0.83        62\n",
    "weighted avg       0.87      0.87      0.87        62\n",
    "\n",
    "Accuracy: 0.871\n",
    "```\n",
    "\n",
    "Decision Tree with Entropy:\n",
    "```\n",
    "              precision    recall  f1-score   support\n",
    "          AB       0.89      0.93      0.91        44\n",
    "          NO       0.81      0.72      0.76        18\n",
    "    accuracy                           0.87        62\n",
    "   macro avg       0.85      0.83      0.84        62\n",
    "weighted avg       0.87      0.87      0.87        62\n",
    "\n",
    "Accuracy: 0.871\n",
    "```\n",
    "\n",
    "Both decision trees have similar structures and achieve comparable accuracy on the validation set.\n",
    "\n",
    "Task c: Observe Classification Performance and Identify Confused Class Pairs\n",
    "\n",
    "For Task c, class confusion was observed, and pairs of classes likely to be confused were identified. The confused class pairs for Gini Index and Entropy are:\n",
    "- Gini Index: [(0, 1, 2), (1, 0, 6)]\n",
    "- Entropy: [(0, 1, 3), (1, 0, 5)]\n",
    "\n",
    "Task d: Identify Leaf Nodes and Analyze the Sequence of Decisions for Misclassification\n",
    "\n",
    "For Task d, the analysis of decision paths leading to misclassification was attempted. However, the specific leaf nodes and decision paths were not provided in the output.\n",
    "\n",
    "Task e: Experiment with Attribute Subsets\n",
    "\n",
    "For Task e, decision trees were constructed using different subsets of attributes, and their structures and classification performances were compared with the original tree. The results are as follows:\n",
    "\n",
    "Original Decision Tree:\n",
    "```\n",
    "Accuracy: 0.871\n",
    "```\n",
    "\n",
    "Decision Tree with Attribute Subset 1:\n",
    "```\n",
    "Accuracy: 0.645\n",
    "```\n",
    "\n",
    "Decision Tree with Attribute Subset 2:\n",
    "```\n",
    "Accuracy: 0.871\n",
    "```\n",
    "\n",
    "The decision tree with Attribute Subset 1 shows a significant drop in accuracy compared to the original tree, indicating the importance of the excluded attributes. Attribute Subset 2, however, maintains a similar accuracy level as the original tree.\n",
    "\n",
    "Conclusion:\n",
    "\n",
    "The decision tree implementation on the Vertebral Column dataset yielded comparable results with Gini Index and Entropy as splitting criteria. Class confusion analysis revealed specific pairs prone to misclassification. Further analysis of decision paths for misclassification and attribute subset experimentation provided insights into the decision-making process of the model. This information can guide further refinement and optimization of the model for improved performance."
   ]
  },
  {
   "cell_type": "markdown",
   "metadata": {},
   "source": []
  }
 ],
 "metadata": {
  "kernelspec": {
   "display_name": "base",
   "language": "python",
   "name": "python3"
  },
  "language_info": {
   "codemirror_mode": {
    "name": "ipython",
    "version": 3
   },
   "file_extension": ".py",
   "mimetype": "text/x-python",
   "name": "python",
   "nbconvert_exporter": "python",
   "pygments_lexer": "ipython3",
   "version": "3.7.6"
  }
 },
 "nbformat": 4,
 "nbformat_minor": 2
}
