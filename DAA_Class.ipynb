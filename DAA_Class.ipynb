{
 "cells": [
  {
   "cell_type": "code",
   "execution_count": 10,
   "metadata": {},
   "outputs": [
    {
     "name": "stdout",
     "output_type": "stream",
     "text": [
      "10\n"
     ]
    }
   ],
   "source": [
    "def CutRod(p,n):   \n",
    "    if n == 0:\n",
    "        return 0\n",
    "    q = -10000\n",
    "    for i in range(1, n+1):\n",
    "          q = max(q, p[i] + CutRod(p, n-i))\n",
    "    return q\n",
    "\n",
    "p = [0, 1, 5, 8, 9, 10, 17, 17, 20]\n",
    "n = 4\n",
    "result = CutRod(p, n)\n",
    "print(result)"
   ]
  },
  {
   "cell_type": "code",
   "execution_count": 9,
   "metadata": {},
   "outputs": [
    {
     "name": "stdout",
     "output_type": "stream",
     "text": [
      "10\n"
     ]
    }
   ],
   "source": [
    "def Memoized_CutRod(p,n):\n",
    "    r = [-10000] * (n+1)\n",
    "    return Memoized_CutRodAux(p,n,r)\n",
    "\n",
    "def Memoized_CutRodAux(p,n,r):\n",
    "    if r[n] >= 0:\n",
    "        return r[n]\n",
    "    if n == 0:\n",
    "        q = 0\n",
    "    else: \n",
    "        q = -10000\n",
    "    for i in range(1, n+1):\n",
    "          q = max(q, p[i] + Memoized_CutRodAux(p,n-i,r))\n",
    "    r[n] = q\n",
    "    return q\n",
    "    \n",
    "    \n",
    "\n",
    "p = [0, 1, 5, 8, 9, 10, 17, 17, 20]\n",
    "n = 4\n",
    "result = Memoized_CutRod(p,n)\n",
    "print(result)"
   ]
  },
  {
   "cell_type": "code",
   "execution_count": 7,
   "metadata": {},
   "outputs": [
    {
     "name": "stdout",
     "output_type": "stream",
     "text": [
      "10\n"
     ]
    }
   ],
   "source": [
    "def BottomUpCutRod(p, n):\n",
    "    r = [0] * (n + 1)\n",
    "    for j in range(1, n + 1):\n",
    "        q = -10000\n",
    "        for i in range(1, j+1):\n",
    "            q = max(q, p[i] + r[j-i])\n",
    "        r[j] = q\n",
    "    return r[n]\n",
    "\n",
    "p = [0, 1, 5, 8, 9, 10, 17, 17, 20]\n",
    "n = 4\n",
    "result = BottomUpCutRod(p,n)\n",
    "print(result)\n",
    "    "
   ]
  },
  {
   "cell_type": "code",
   "execution_count": 14,
   "metadata": {},
   "outputs": [
    {
     "name": "stdout",
     "output_type": "stream",
     "text": [
      "Maximum value: 10\n",
      "2\n",
      "2\n",
      "None\n"
     ]
    }
   ],
   "source": [
    "def ExtendedBottomUpCutRod(p, n):\n",
    "    r = [0] * (n + 1)\n",
    "    s = [0] * (n + 1)\n",
    "    for j in range(1, n+1):\n",
    "        q = -10000\n",
    "        for i in range(1, j+1):\n",
    "            if q < p[i] + r[j - i]:\n",
    "               q = p[i] + r[j - i]\n",
    "               s[j] = i\n",
    "        r[j] = q\n",
    "    return r, s\n",
    "\n",
    "def PrintBottomUpCutRodSolution(p, n):\n",
    "    r, s = ExtendedBottomUpCutRod(p, n)\n",
    "    print(\"Maximum value:\", r[n])\n",
    "    while n > 0:\n",
    "        print (s[n])\n",
    "        n = n - s[n]\n",
    "\n",
    "\n",
    "p = [0, 1, 5, 8, 9, 10, 17, 17, 20]\n",
    "n = 4\n",
    "result = PrintBottomUpCutRodSolution(p,n)\n",
    "print(result)"
   ]
  },
  {
   "cell_type": "code",
   "execution_count": 1,
   "metadata": {},
   "outputs": [
    {
     "name": "stdout",
     "output_type": "stream",
     "text": [
      "Length of LCS: 6\n",
      "LCS: 1 0 0 1 1 0 "
     ]
    }
   ],
   "source": [
    "def lcs_length(X, Y):\n",
    "    m, n = len(X), len(Y)\n",
    "\n",
    "    # Initialize tables\n",
    "    c = [[0] * (n + 1) for _ in range(m + 1)]\n",
    "    b = [['-'] * (n + 1) for _ in range(m + 1)]\n",
    "\n",
    "    # Build the tables\n",
    "    for i in range(1, m + 1):\n",
    "        for j in range(1, n + 1):\n",
    "            if X[i - 1] == Y[j - 1]:\n",
    "                c[i][j] = c[i - 1][j - 1] + 1\n",
    "                b[i][j] = '\\\\'\n",
    "            elif c[i - 1][j] >= c[i][j - 1]:\n",
    "                c[i][j] = c[i - 1][j]\n",
    "                b[i][j] = '|'\n",
    "            else:\n",
    "                c[i][j] = c[i][j - 1]\n",
    "                b[i][j] = '-'\n",
    "\n",
    "    return c, b\n",
    "\n",
    "def print_lcs(b, X, i, j):\n",
    "    if i == 0 or j == 0:\n",
    "        return\n",
    "    if b[i][j] == '\\\\':\n",
    "        print_lcs(b, X, i - 1, j - 1)\n",
    "        print(X[i - 1], end=' ')\n",
    "    elif b[i][j] == '|':\n",
    "        print_lcs(b, X, i - 1, j)\n",
    "    else:\n",
    "        print_lcs(b, X, i, j - 1)\n",
    "\n",
    "# Example usage\n",
    "X = [1, 0, 0, 1, 0, 1, 0, 1]\n",
    "Y = [0, 1, 0, 1, 1, 0, 1, 1, 0]\n",
    "\n",
    "c, b = lcs_length(X, Y)\n",
    "\n",
    "print(\"Length of LCS:\", c[len(X)][len(Y)])\n",
    "print(\"LCS:\", end=' ')\n",
    "print_lcs(b, X, len(X), len(Y))\n"
   ]
  },
  {
   "cell_type": "code",
   "execution_count": 2,
   "metadata": {},
   "outputs": [
    {
     "name": "stdout",
     "output_type": "stream",
     "text": [
      "Length of LCS: 6\n",
      "Vertices visited during backtracking:\n",
      "Vertex: (1, 2)\n",
      "Vertex: (2, 3)\n",
      "Vertex: (3, 6)\n",
      "Vertex: (4, 7)\n",
      "Vertex: (6, 8)\n",
      "Vertex: (7, 9)\n"
     ]
    }
   ],
   "source": [
    "def print_lcs_vertices(b, i, j):\n",
    "    if i == 0 or j == 0:\n",
    "        return\n",
    "    if b[i][j] == '\\\\':\n",
    "        print_lcs_vertices(b, i - 1, j - 1)\n",
    "        print(f\"Vertex: ({i}, {j})\")\n",
    "    elif b[i][j] == '|':\n",
    "        print_lcs_vertices(b, i - 1, j)\n",
    "    else:\n",
    "        print_lcs_vertices(b, i, j - 1)\n",
    "\n",
    "# Example usage\n",
    "X = [1, 0, 0, 1, 0, 1, 0, 1]\n",
    "Y = [0, 1, 0, 1, 1, 0, 1, 1, 0]\n",
    "\n",
    "c, b = lcs_length(X, Y)\n",
    "\n",
    "print(\"Length of LCS:\", c[len(X)][len(Y)])\n",
    "print(\"Vertices visited during backtracking:\")\n",
    "print_lcs_vertices(b, len(X), len(Y))\n"
   ]
  },
  {
   "cell_type": "code",
   "execution_count": null,
   "metadata": {},
   "outputs": [],
   "source": []
  }
 ],
 "metadata": {
  "kernelspec": {
   "display_name": "Python 3",
   "language": "python",
   "name": "python3"
  },
  "language_info": {
   "codemirror_mode": {
    "name": "ipython",
    "version": 3
   },
   "file_extension": ".py",
   "mimetype": "text/x-python",
   "name": "python",
   "nbconvert_exporter": "python",
   "pygments_lexer": "ipython3",
   "version": "3.7.6"
  }
 },
 "nbformat": 4,
 "nbformat_minor": 4
}
