{
 "cells": [
  {
   "cell_type": "code",
   "execution_count": 23,
   "metadata": {},
   "outputs": [
    {
     "name": "stdout",
     "output_type": "stream",
     "text": [
      "13\n"
     ]
    }
   ],
   "source": [
    "def CutRod(p,n):   \n",
    "    if n == 0:\n",
    "        return 0\n",
    "    q = -10000\n",
    "    for i in range(1, n+1):\n",
    "          q = max(q, p[i] + CutRod(p, n-i))\n",
    "    return q\n",
    "\n",
    "p = [0, 1, 5, 8, 9, 10, 17, 17, 20]\n",
    "n = 5\n",
    "result = CutRod(p, n)\n",
    "print(result)"
   ]
  },
  {
   "cell_type": "code",
   "execution_count": 36,
   "metadata": {},
   "outputs": [
    {
     "name": "stdout",
     "output_type": "stream",
     "text": [
      "17\n"
     ]
    }
   ],
   "source": [
    "def Memoized_CutRod(p,n):\n",
    "    r = [-10000] * (n+1)\n",
    "    return Memoized_CutRodAux(p,n,r)\n",
    "\n",
    "def Memoized_CutRodAux(p,n,r):\n",
    "    if r[n] >= 0:\n",
    "        return r[n]\n",
    "    if n == 0:\n",
    "        q = 0\n",
    "    else: \n",
    "        q = -10000\n",
    "    for i in range(1, n+1):\n",
    "          q = max(q, p[i] + Memoized_CutRodAux(p,n-i,r))\n",
    "    r[n] = q\n",
    "    return q\n",
    "    \n",
    "    \n",
    "\n",
    "p = [0, 1, 5, 8, 9, 10, 17, 17, 20]\n",
    "n = 6\n",
    "result = Memoized_CutRod(p,n)\n",
    "print(result)"
   ]
  },
  {
   "cell_type": "code",
   "execution_count": null,
   "metadata": {},
   "outputs": [],
   "source": [
    "def ExtendedBottomUpCutRod()"
   ]
  }
 ],
 "metadata": {
  "kernelspec": {
   "display_name": "Python 3",
   "language": "python",
   "name": "python3"
  },
  "language_info": {
   "codemirror_mode": {
    "name": "ipython",
    "version": 3
   },
   "file_extension": ".py",
   "mimetype": "text/x-python",
   "name": "python",
   "nbconvert_exporter": "python",
   "pygments_lexer": "ipython3",
   "version": "3.7.6"
  }
 },
 "nbformat": 4,
 "nbformat_minor": 4
}
