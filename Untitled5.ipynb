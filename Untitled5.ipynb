{
 "cells": [
  {
   "cell_type": "code",
   "execution_count": null,
   "metadata": {
    "scrolled": true
   },
   "outputs": [],
   "source": [
    "first_group = 23\n",
    "second_group = 27\n",
    "third_group = 18\n",
    "sum = first_group + second_group + third_group\n",
    "total = sum * 2\n",
    "print(total)"
   ]
  },
  {
   "cell_type": "code",
   "execution_count": null,
   "metadata": {},
   "outputs": [],
   "source": [
    "pupil1 = 18\n",
    "pupil2 = 19\n",
    "total_books = 76\n",
    "books_given = (pupil1 + pupil2) * 2\n",
    "books_left = total_books - books_given\n",
    "print(books_left)"
   ]
  },
  {
   "cell_type": "code",
   "execution_count": null,
   "metadata": {},
   "outputs": [],
   "source": [
    "name = input()\n",
    "age = input()\n",
    "\n",
    "print(name + \" is \" + age)"
   ]
  },
  {
   "cell_type": "code",
   "execution_count": 1,
   "metadata": {},
   "outputs": [
    {
     "name": "stdout",
     "output_type": "stream",
     "text": [
      "Subscribe to \n",
      "Subscribe to \n"
     ]
    }
   ],
   "source": [
    "youtuber = \"\"\n",
    "print(\"Subscribe to \" + youtuber)\n",
    "print(f\"Subscribe to {youtuber}\")"
   ]
  },
  {
   "cell_type": "code",
   "execution_count": null,
   "metadata": {},
   "outputs": [],
   "source": [
    "adj = input(\"adjective:\")\n",
    "verb1 = input(\"verb:\")\n",
    "verb2 = input(\"verb:\")\n",
    "person = input(\"person:\")\n",
    "\n",
    "madlibs = f\"Computer programming is {adj}! blalba {verb1} so stfu \\ and kmt {verb2} i like {person}\""
   ]
  },
  {
   "cell_type": "code",
   "execution_count": null,
   "metadata": {},
   "outputs": [],
   "source": [
    "print(madlibs)"
   ]
  },
  {
   "cell_type": "code",
   "execution_count": null,
   "metadata": {},
   "outputs": [],
   "source": [
    "import random\n",
    "\n",
    "def guess(x):\n",
    "    random_number = random.randint(1,x)\n",
    "    guess = 0\n",
    "    while guess != random_number:\n",
    "        guess =int(input(f'Guess a number between 1 and  {x}'))\n",
    "        if guess < random_number:\n",
    "            print('Guess too low, guess again')\n",
    "        elif guess > random_number:\n",
    "            print('Guess too high, guess again')\n",
    "        \n",
    "    print(f'You guessed the correct number {random_number}')\n",
    "    \n",
    "guess(10)"
   ]
  },
  {
   "cell_type": "code",
   "execution_count": 1,
   "metadata": {},
   "outputs": [],
   "source": [
    "import turtle\n",
    "turtle.forward(15)"
   ]
  },
  {
   "cell_type": "code",
   "execution_count": null,
   "metadata": {},
   "outputs": [],
   "source": []
  },
  {
   "cell_type": "code",
   "execution_count": null,
   "metadata": {},
   "outputs": [],
   "source": []
  }
 ],
 "metadata": {
  "kernelspec": {
   "display_name": "Python 3",
   "language": "python",
   "name": "python3"
  },
  "language_info": {
   "codemirror_mode": {
    "name": "ipython",
    "version": 3
   },
   "file_extension": ".py",
   "mimetype": "text/x-python",
   "name": "python",
   "nbconvert_exporter": "python",
   "pygments_lexer": "ipython3",
   "version": "3.7.6"
  }
 },
 "nbformat": 4,
 "nbformat_minor": 4
}
