{
 "cells": [
  {
   "cell_type": "code",
   "execution_count": 1,
   "metadata": {},
   "outputs": [
    {
     "name": "stdout",
     "output_type": "stream",
     "text": [
      "subscribe to Broadway\n",
      "subscribe to Broadway\n",
      "subscribe to Broadway\n"
     ]
    }
   ],
   "source": [
    "youtuber = \"Broadway\"\n",
    "print(\"subscribe to \" +  youtuber)\n",
    "print(\"subscribe to {}\".format(youtuber))\n",
    "print(f\"subscribe to {youtuber}\")"
   ]
  },
  {
   "cell_type": "code",
   "execution_count": 3,
   "metadata": {},
   "outputs": [
    {
     "name": "stdout",
     "output_type": "stream",
     "text": [
      "Adjective: ugly\n",
      "Verb: going\n"
     ]
    }
   ],
   "source": [
    "adj1 = input(\"Adjective: \")\n",
    "verb1 = input(\"Verb: \")\n",
    "\n",
    "sentence = f\"I know am {adj1} so i am {verb1} home\"\n"
   ]
  },
  {
   "cell_type": "code",
   "execution_count": 4,
   "metadata": {},
   "outputs": [
    {
     "name": "stdout",
     "output_type": "stream",
     "text": [
      "I know am ugly so i am going home\n"
     ]
    }
   ],
   "source": [
    "print(sentence)"
   ]
  },
  {
   "cell_type": "code",
   "execution_count": 10,
   "metadata": {},
   "outputs": [
    {
     "name": "stdout",
     "output_type": "stream",
     "text": [
      "guess a number between 1 and 10: 1\n",
      "guess is too low\n",
      "guess a number between 1 and 10: 2\n",
      "guess is too low\n",
      "guess a number between 1 and 10: 3\n",
      "The random number is 3\n"
     ]
    }
   ],
   "source": [
    "#Guessing Games\n",
    "import random\n",
    "\n",
    "def guess(x):\n",
    "    random_number = random.randint(1,x);\n",
    "    guess = 0\n",
    "    while guess != random_number:\n",
    "        guess = int(input(f\"guess a number between 1 and {x}: \"))\n",
    "        if guess < random_number:\n",
    "            print(\"guess is too low\")\n",
    "        elif guess > random_number:\n",
    "            print(\"guess is too high\")\n",
    "    print(f'The random number is {random_number}')    \n",
    "guess(10)"
   ]
  },
  {
   "cell_type": "code",
   "execution_count": 1,
   "metadata": {},
   "outputs": [
    {
     "name": "stdout",
     "output_type": "stream",
     "text": [
      "Is 6 too high (H), too low (L) or correct(C)c\n",
      "The computer guessed your number, 6, corectly!\n"
     ]
    }
   ],
   "source": [
    "import random\n",
    "def computer_guess(x):\n",
    "    low = 1\n",
    "    high = x\n",
    "    feedback = ''\n",
    "    while feedback != 'c':\n",
    "        if low != high:\n",
    "            guess = random.randint(low,high)\n",
    "        else:\n",
    "            guess = low\n",
    "        feedback = input(f'Is {guess} too high (H), too low (L) or correct(C)')\n",
    "        if feedback == 'h':\n",
    "            high = guess - 1\n",
    "        elif feedback == 'l':\n",
    "            low = guess + 1\n",
    "    print(f'The computer guessed your number, {guess}, corectly!')\n",
    "computer_guess(10)"
   ]
  },
  {
   "cell_type": "code",
   "execution_count": 2,
   "metadata": {},
   "outputs": [
    {
     "name": "stdout",
     "output_type": "stream",
     "text": [
      "Is 608 too high (H), too low (L) or correct(C)c\n",
      "The computer guessed your number, 608, corectly!\n"
     ]
    }
   ],
   "source": [
    "computer_guess(1000)"
   ]
  },
  {
   "cell_type": "code",
   "execution_count": 5,
   "metadata": {},
   "outputs": [],
   "source": [
    "#Rock Papper Scissors\n",
    "import random\n",
    "\n",
    "def play():\n",
    "    user = input(\"What's your choice?? 'r' for rock, 's' for scissors, and 'p' for paper\")\n",
    "    computer = random.choice(['r','s','p'])\n",
    "    \n",
    "    if user == computer:\n",
    "        return 'It\\'s a tie'\n",
    "    \n",
    "    if is_win(user, computer):\n",
    "        return 'You won!!'\n",
    "    \n",
    "    return 'You lost!!'\n",
    "\n",
    "def is_win(player, opponent):\n",
    "    if(player == 'r' and opponent == 's') or (player == 's' and opponent == 'p') or (player == 'p' and opponent == 'r'):\n",
    "         return True"
   ]
  },
  {
   "cell_type": "code",
   "execution_count": null,
   "metadata": {},
   "outputs": [],
   "source": [
    "from random import randint\n",
    "\n",
    "t = [\"rock\" , \"scissors\", \"paper\"]\n",
    "computer = t[randint(0,2)]\n",
    "player = False\n",
    "while player == False:\n",
    "    player = input(\"rock,scissors,paper: \")\n",
    "    if player == computer:\n",
    "        print('Tie')\n",
    "    elif player == \"rock\":\n",
    "        if computer == \"scissors\":\n",
    "            print('Computer Won!!')\n",
    "        else:\n",
    "            print('Player won!!')\n",
    "    elif player == \"rock\":\n",
    "        if computer == \"paper\":\n",
    "            print('Computer Won!!')\n",
    "        else:\n",
    "            print('Player won!!')\n",
    "    elif player == \"scissors\":\n",
    "        if computer == \"rock\":\n",
    "            print('Computer Won!!')\n",
    "        else:\n",
    "            print('Player won!!')\n",
    "    else:\n",
    "        print('Invalid input or spelling')\n",
    "        \n",
    "    player = False\n",
    "    computer= t[randint(0,2)]"
   ]
  },
  {
   "cell_type": "code",
   "execution_count": 1,
   "metadata": {},
   "outputs": [
    {
     "ename": "ModuleNotFoundError",
     "evalue": "No module named 'words'",
     "output_type": "error",
     "traceback": [
      "\u001b[1;31m---------------------------------------------------------------------------\u001b[0m",
      "\u001b[1;31mModuleNotFoundError\u001b[0m                       Traceback (most recent call last)",
      "\u001b[1;32m<ipython-input-1-bf3a9718d46f>\u001b[0m in \u001b[0;36m<module>\u001b[1;34m\u001b[0m\n\u001b[0;32m      1\u001b[0m \u001b[1;32mimport\u001b[0m \u001b[0mrandom\u001b[0m\u001b[1;33m\u001b[0m\u001b[1;33m\u001b[0m\u001b[0m\n\u001b[1;32m----> 2\u001b[1;33m \u001b[1;32mfrom\u001b[0m \u001b[0mwords\u001b[0m \u001b[1;32mimport\u001b[0m \u001b[0mwords\u001b[0m\u001b[1;33m\u001b[0m\u001b[1;33m\u001b[0m\u001b[0m\n\u001b[0m\u001b[0;32m      3\u001b[0m \u001b[1;33m\u001b[0m\u001b[0m\n\u001b[0;32m      4\u001b[0m \u001b[1;32mdef\u001b[0m \u001b[0mget_valid_word\u001b[0m\u001b[1;33m(\u001b[0m\u001b[0mwords\u001b[0m\u001b[1;33m)\u001b[0m\u001b[1;33m:\u001b[0m\u001b[1;33m\u001b[0m\u001b[1;33m\u001b[0m\u001b[0m\n\u001b[0;32m      5\u001b[0m     \u001b[0mword\u001b[0m \u001b[1;33m=\u001b[0m \u001b[0mrandom\u001b[0m\u001b[1;33m.\u001b[0m\u001b[0mchoice\u001b[0m\u001b[1;33m(\u001b[0m\u001b[0mwords\u001b[0m\u001b[1;33m)\u001b[0m\u001b[1;33m\u001b[0m\u001b[1;33m\u001b[0m\u001b[0m\n",
      "\u001b[1;31mModuleNotFoundError\u001b[0m: No module named 'words'"
     ]
    }
   ],
   "source": [
    "import random\n",
    "from words import words\n",
    "\n",
    "def get_valid_word(words):\n",
    "    word = random.choice(words)\n",
    "    while \"_\" in word or \" \" in word:\n",
    "        word = random.choice(words)\n",
    "    return word"
   ]
  },
  {
   "cell_type": "code",
   "execution_count": 2,
   "metadata": {},
   "outputs": [
    {
     "name": "stdout",
     "output_type": "stream",
     "text": [
      "subscribe to Broadway\n",
      "subscribe to Broadway\n",
      "subscribe to Broadway\n"
     ]
    }
   ],
   "source": [
    "youtuber = \"Broadway\"\n",
    "print(\"subscribe to \" +  youtuber)\n",
    "print(\"subscribe to {}\".format(youtuber))\n",
    "print(f\"subscribe to {youtuber}\")"
   ]
  },
  {
   "cell_type": "code",
   "execution_count": null,
   "metadata": {},
   "outputs": [],
   "source": []
  }
 ],
 "metadata": {
  "kernelspec": {
   "display_name": "Python 3",
   "language": "python",
   "name": "python3"
  },
  "language_info": {
   "codemirror_mode": {
    "name": "ipython",
    "version": 3
   },
   "file_extension": ".py",
   "mimetype": "text/x-python",
   "name": "python",
   "nbconvert_exporter": "python",
   "pygments_lexer": "ipython3",
   "version": "3.7.6"
  }
 },
 "nbformat": 4,
 "nbformat_minor": 4
}
